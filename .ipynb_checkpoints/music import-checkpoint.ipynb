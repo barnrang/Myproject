{
 "cells": [
  {
   "cell_type": "markdown",
   "metadata": {},
   "source": [
    "# Reference\n",
    "http://zulko.github.io/blog/2013/10/04/read-and-write-audio-files-in-python-using-ffmpeg/"
   ]
  },
  {
   "cell_type": "code",
   "execution_count": 1,
   "metadata": {
    "collapsed": true
   },
   "outputs": [],
   "source": [
    "FFMPEG_BIN = \"ffmpeg.exe\"\n",
    "#FFMPEG_BIN = \"ffmpeg\""
   ]
  },
  {
   "cell_type": "code",
   "execution_count": 5,
   "metadata": {
    "collapsed": true
   },
   "outputs": [],
   "source": [
    "import subprocess as sp\n",
    "import numpy as np\n",
    "command = [ FFMPEG_BIN,\n",
    "        '-i', 'test.mp3',\n",
    "        '-f', 's16le',\n",
    "        '-acodec', 'pcm_s16le',\n",
    "        '-ar', '44100', # ouput will have 44100 Hz\n",
    "        '-ac', '2', # stereo (set to '1' for mono)\n",
    "        '-']\n",
    "pipe = sp.Popen(command, stdout=sp.PIPE, bufsize=10**8)\n",
    "stdoutdata = pipe.stdout.read()\n",
    "audio_array = np.fromstring(stdoutdata, dtype=\"int16\")"
   ]
  },
  {
   "cell_type": "code",
   "execution_count": 6,
   "metadata": {
    "collapsed": true
   },
   "outputs": [],
   "source": [
    "audio_array = audio_array.reshape((int(len(audio_array)/2),2))\n",
    "sep_music = np.array_split(audio_array,100)"
   ]
  },
  {
   "cell_type": "code",
   "execution_count": 51,
   "metadata": {},
   "outputs": [
    {
     "data": {
      "text/plain": [
       "<Channel at 0x23898a8b048>"
      ]
     },
     "execution_count": 51,
     "metadata": {},
     "output_type": "execute_result"
    }
   ],
   "source": [
    "import pygame\n",
    "pygame.mixer.init(44100, -16, 2) # 44100 Hz, 16bit, 2 channels\n",
    "sound = pygame.sndarray.make_sound(np.array(sep_music[6]/5+10000,dtype='int16'))\n",
    "sound.play()"
   ]
  },
  {
   "cell_type": "code",
   "execution_count": 52,
   "metadata": {},
   "outputs": [],
   "source": [
    "sound.stop()"
   ]
  },
  {
   "cell_type": "code",
   "execution_count": null,
   "metadata": {
    "collapsed": true
   },
   "outputs": [],
   "source": []
  }
 ],
 "metadata": {
  "kernelspec": {
   "display_name": "Python [conda env:chatbot]",
   "language": "python",
   "name": "conda-env-chatbot-py"
  },
  "language_info": {
   "codemirror_mode": {
    "name": "ipython",
    "version": 3
   },
   "file_extension": ".py",
   "mimetype": "text/x-python",
   "name": "python",
   "nbconvert_exporter": "python",
   "pygments_lexer": "ipython3",
   "version": "3.5.3"
  }
 },
 "nbformat": 4,
 "nbformat_minor": 2
}
